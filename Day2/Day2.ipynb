{
 "cells": [
  {
   "cell_type": "markdown",
   "id": "4b8a52e0-11d7-4b25-ba21-3d5ea3489ad7",
   "metadata": {},
   "source": [
    "# Linear Regression"
   ]
  },
  {
   "cell_type": "markdown",
   "id": "bd228d1b-2d5b-43df-a62e-ae3541d54e64",
   "metadata": {},
   "source": [
    "## Importing necessary libraries"
   ]
  },
  {
   "cell_type": "code",
   "execution_count": 1,
   "id": "b5f77c7f-0158-4adb-81c1-f550e0e0bf0c",
   "metadata": {},
   "outputs": [],
   "source": [
    "import pandas as pd\n",
    "import numpy as np\n",
    "import matplotlib.pyplot as plt"
   ]
  },
  {
   "cell_type": "markdown",
   "id": "6df0cba6-1650-425b-aa95-73e5dad4d4c0",
   "metadata": {},
   "source": [
    "## Load Dataset"
   ]
  },
  {
   "cell_type": "code",
   "execution_count": 4,
   "id": "ad776a9a-ab95-4e0c-a348-b5e985a6744e",
   "metadata": {},
   "outputs": [],
   "source": [
    "data = pd.read_csv(r'C:\\Users\\prava\\100_days_of _ML\\datasets\\studentscores.csv')"
   ]
  },
  {
   "cell_type": "code",
   "execution_count": 5,
   "id": "0e8a5e01-1732-45f4-bef9-3186d713513a",
   "metadata": {},
   "outputs": [
    {
     "data": {
      "text/html": [
       "<div>\n",
       "<style scoped>\n",
       "    .dataframe tbody tr th:only-of-type {\n",
       "        vertical-align: middle;\n",
       "    }\n",
       "\n",
       "    .dataframe tbody tr th {\n",
       "        vertical-align: top;\n",
       "    }\n",
       "\n",
       "    .dataframe thead th {\n",
       "        text-align: right;\n",
       "    }\n",
       "</style>\n",
       "<table border=\"1\" class=\"dataframe\">\n",
       "  <thead>\n",
       "    <tr style=\"text-align: right;\">\n",
       "      <th></th>\n",
       "      <th>Hours</th>\n",
       "      <th>Scores</th>\n",
       "    </tr>\n",
       "  </thead>\n",
       "  <tbody>\n",
       "    <tr>\n",
       "      <th>0</th>\n",
       "      <td>2.5</td>\n",
       "      <td>21</td>\n",
       "    </tr>\n",
       "    <tr>\n",
       "      <th>1</th>\n",
       "      <td>5.1</td>\n",
       "      <td>47</td>\n",
       "    </tr>\n",
       "    <tr>\n",
       "      <th>2</th>\n",
       "      <td>3.2</td>\n",
       "      <td>27</td>\n",
       "    </tr>\n",
       "    <tr>\n",
       "      <th>3</th>\n",
       "      <td>8.5</td>\n",
       "      <td>75</td>\n",
       "    </tr>\n",
       "    <tr>\n",
       "      <th>4</th>\n",
       "      <td>3.5</td>\n",
       "      <td>30</td>\n",
       "    </tr>\n",
       "    <tr>\n",
       "      <th>5</th>\n",
       "      <td>1.5</td>\n",
       "      <td>20</td>\n",
       "    </tr>\n",
       "    <tr>\n",
       "      <th>6</th>\n",
       "      <td>9.2</td>\n",
       "      <td>88</td>\n",
       "    </tr>\n",
       "    <tr>\n",
       "      <th>7</th>\n",
       "      <td>5.5</td>\n",
       "      <td>60</td>\n",
       "    </tr>\n",
       "    <tr>\n",
       "      <th>8</th>\n",
       "      <td>8.3</td>\n",
       "      <td>81</td>\n",
       "    </tr>\n",
       "    <tr>\n",
       "      <th>9</th>\n",
       "      <td>2.7</td>\n",
       "      <td>25</td>\n",
       "    </tr>\n",
       "    <tr>\n",
       "      <th>10</th>\n",
       "      <td>7.7</td>\n",
       "      <td>85</td>\n",
       "    </tr>\n",
       "    <tr>\n",
       "      <th>11</th>\n",
       "      <td>5.9</td>\n",
       "      <td>62</td>\n",
       "    </tr>\n",
       "    <tr>\n",
       "      <th>12</th>\n",
       "      <td>4.5</td>\n",
       "      <td>41</td>\n",
       "    </tr>\n",
       "    <tr>\n",
       "      <th>13</th>\n",
       "      <td>3.3</td>\n",
       "      <td>42</td>\n",
       "    </tr>\n",
       "    <tr>\n",
       "      <th>14</th>\n",
       "      <td>1.1</td>\n",
       "      <td>17</td>\n",
       "    </tr>\n",
       "    <tr>\n",
       "      <th>15</th>\n",
       "      <td>8.9</td>\n",
       "      <td>95</td>\n",
       "    </tr>\n",
       "    <tr>\n",
       "      <th>16</th>\n",
       "      <td>2.5</td>\n",
       "      <td>30</td>\n",
       "    </tr>\n",
       "    <tr>\n",
       "      <th>17</th>\n",
       "      <td>1.9</td>\n",
       "      <td>24</td>\n",
       "    </tr>\n",
       "    <tr>\n",
       "      <th>18</th>\n",
       "      <td>6.1</td>\n",
       "      <td>67</td>\n",
       "    </tr>\n",
       "    <tr>\n",
       "      <th>19</th>\n",
       "      <td>7.4</td>\n",
       "      <td>69</td>\n",
       "    </tr>\n",
       "    <tr>\n",
       "      <th>20</th>\n",
       "      <td>2.7</td>\n",
       "      <td>30</td>\n",
       "    </tr>\n",
       "    <tr>\n",
       "      <th>21</th>\n",
       "      <td>4.8</td>\n",
       "      <td>54</td>\n",
       "    </tr>\n",
       "    <tr>\n",
       "      <th>22</th>\n",
       "      <td>3.8</td>\n",
       "      <td>35</td>\n",
       "    </tr>\n",
       "    <tr>\n",
       "      <th>23</th>\n",
       "      <td>6.9</td>\n",
       "      <td>76</td>\n",
       "    </tr>\n",
       "    <tr>\n",
       "      <th>24</th>\n",
       "      <td>7.8</td>\n",
       "      <td>86</td>\n",
       "    </tr>\n",
       "  </tbody>\n",
       "</table>\n",
       "</div>"
      ],
      "text/plain": [
       "    Hours  Scores\n",
       "0     2.5      21\n",
       "1     5.1      47\n",
       "2     3.2      27\n",
       "3     8.5      75\n",
       "4     3.5      30\n",
       "5     1.5      20\n",
       "6     9.2      88\n",
       "7     5.5      60\n",
       "8     8.3      81\n",
       "9     2.7      25\n",
       "10    7.7      85\n",
       "11    5.9      62\n",
       "12    4.5      41\n",
       "13    3.3      42\n",
       "14    1.1      17\n",
       "15    8.9      95\n",
       "16    2.5      30\n",
       "17    1.9      24\n",
       "18    6.1      67\n",
       "19    7.4      69\n",
       "20    2.7      30\n",
       "21    4.8      54\n",
       "22    3.8      35\n",
       "23    6.9      76\n",
       "24    7.8      86"
      ]
     },
     "execution_count": 5,
     "metadata": {},
     "output_type": "execute_result"
    }
   ],
   "source": [
    "data"
   ]
  },
  {
   "cell_type": "markdown",
   "id": "06c44b17-ad71-4ce7-a446-6b38a55a89bb",
   "metadata": {},
   "source": [
    "## Split data into features "
   ]
  },
  {
   "cell_type": "code",
   "execution_count": 6,
   "id": "2ddfd465-130e-4201-80de-71cea67c8378",
   "metadata": {},
   "outputs": [],
   "source": [
    "X = data.iloc[:,:1].values"
   ]
  },
  {
   "cell_type": "code",
   "execution_count": 7,
   "id": "97cf135e-4517-4a5b-a80a-191585f4720e",
   "metadata": {},
   "outputs": [
    {
     "data": {
      "text/plain": [
       "array([[2.5],\n",
       "       [5.1],\n",
       "       [3.2],\n",
       "       [8.5],\n",
       "       [3.5],\n",
       "       [1.5],\n",
       "       [9.2],\n",
       "       [5.5],\n",
       "       [8.3],\n",
       "       [2.7],\n",
       "       [7.7],\n",
       "       [5.9],\n",
       "       [4.5],\n",
       "       [3.3],\n",
       "       [1.1],\n",
       "       [8.9],\n",
       "       [2.5],\n",
       "       [1.9],\n",
       "       [6.1],\n",
       "       [7.4],\n",
       "       [2.7],\n",
       "       [4.8],\n",
       "       [3.8],\n",
       "       [6.9],\n",
       "       [7.8]])"
      ]
     },
     "execution_count": 7,
     "metadata": {},
     "output_type": "execute_result"
    }
   ],
   "source": [
    "X"
   ]
  },
  {
   "cell_type": "code",
   "execution_count": 8,
   "id": "e3b480af-7156-4841-8420-dd66bf04a5e0",
   "metadata": {},
   "outputs": [],
   "source": [
    "Y= data.iloc[:,1].values"
   ]
  },
  {
   "cell_type": "code",
   "execution_count": 9,
   "id": "b7d88e06-a2ea-4575-9885-2122ee9d8377",
   "metadata": {},
   "outputs": [
    {
     "data": {
      "text/plain": [
       "array([21, 47, 27, 75, 30, 20, 88, 60, 81, 25, 85, 62, 41, 42, 17, 95, 30,\n",
       "       24, 67, 69, 30, 54, 35, 76, 86], dtype=int64)"
      ]
     },
     "execution_count": 9,
     "metadata": {},
     "output_type": "execute_result"
    }
   ],
   "source": [
    "Y"
   ]
  },
  {
   "cell_type": "markdown",
   "id": "26a0fd04-f1ff-4ac9-96d4-036032070eb8",
   "metadata": {},
   "source": [
    "## Spliting data into testing and training data sets"
   ]
  },
  {
   "cell_type": "code",
   "execution_count": 13,
   "id": "8dd2c47e-3008-4f9c-bde0-72e1fc2c4f51",
   "metadata": {},
   "outputs": [],
   "source": [
    "from sklearn.model_selection import train_test_split"
   ]
  },
  {
   "cell_type": "code",
   "execution_count": 14,
   "id": "3e139f7e-5379-45b7-9320-c12eaa8c3456",
   "metadata": {},
   "outputs": [],
   "source": [
    "X_train, X_test, Y_train, Y_test = train_test_split( X, Y, test_size = 1/4, random_state = 0) "
   ]
  },
  {
   "cell_type": "markdown",
   "id": "cf460993-39b0-469f-b68d-01343611cd33",
   "metadata": {},
   "source": [
    "### Fitting training data into Linear Regression Model "
   ]
  },
  {
   "cell_type": "code",
   "execution_count": 10,
   "id": "63616583-0cc2-43ce-a7f2-f5e2891dab0c",
   "metadata": {},
   "outputs": [],
   "source": [
    "from sklearn.linear_model import LinearRegression"
   ]
  },
  {
   "cell_type": "code",
   "execution_count": 18,
   "id": "41816fa0-0f0b-4e5c-8f2a-366d5fb0d2f3",
   "metadata": {},
   "outputs": [],
   "source": [
    "regressor = LinearRegression()"
   ]
  },
  {
   "cell_type": "code",
   "execution_count": 19,
   "id": "40ef6690-137e-416e-a021-efa218ac2457",
   "metadata": {},
   "outputs": [],
   "source": [
    "regressor = regressor.fit(X_train,Y_train)"
   ]
  },
  {
   "cell_type": "markdown",
   "id": "896a7bde-f30b-4ff4-b330-bae4c9bfccfa",
   "metadata": {},
   "source": [
    "### Predicting values of test set results"
   ]
  },
  {
   "cell_type": "code",
   "execution_count": 20,
   "id": "07423fd0-c8fe-4f6e-b191-c5565810f7ac",
   "metadata": {},
   "outputs": [],
   "source": [
    "Y_pred = regressor.predict(X_test)"
   ]
  },
  {
   "cell_type": "markdown",
   "id": "79f360eb-f4c3-4682-a165-e57631a0e2a9",
   "metadata": {},
   "source": [
    "### Visualizing of training data"
   ]
  },
  {
   "cell_type": "code",
   "execution_count": 26,
   "id": "9e8eeb82-570f-4ff1-9d9f-5173abae6481",
   "metadata": {},
   "outputs": [
    {
     "data": {
      "image/png": "[encoded data removed]",
      "text/plain": [
       "<Figure size 640x480 with 1 Axes>"
      ]
     },
     "metadata": {},
     "output_type": "display_data"
    }
   ],
   "source": [
    "plt.scatter(X_train , Y_train, color = 'red',label=\"Actual Data\")\n",
    "plt.plot(X_train , regressor.predict(X_train), color ='blue',label=\"regression line\")\n",
    "plt.title(\"Training set: Hours Studied vs Scores\")\n",
    "plt.xlabel(\"Hours Studied\")\n",
    "plt.ylabel(\"Scores\")\n",
    "plt.legend()\n",
    "plt.show()"
   ]
  },
  {
   "cell_type": "markdown",
   "id": "b8684521-e08a-4885-bc50-e1396294317d",
   "metadata": {},
   "source": [
    "### Visualizing of Test data"
   ]
  },
  {
   "cell_type": "code",
   "execution_count": 28,
   "id": "7b841142-100f-4040-8b9e-2bae28cae93b",
   "metadata": {},
   "outputs": [
    {
     "data": {
      "image/png": "[encoded data removed]",
      "text/plain": [
       "<Figure size 640x480 with 1 Axes>"
      ]
     },
     "metadata": {},
     "output_type": "display_data"
    }
   ],
   "source": [
    "plt.scatter(X_test , Y_test, color = 'red',label=\"Actual Data\")\n",
    "plt.plot(X_test , regressor.predict(X_test), color ='blue',label=\"Regression line\")\n",
    "plt.title(\"Test Data : Hours vs Scores\")\n",
    "plt.xlabel(\"Hours Studied\")\n",
    "plt.ylabel(\"Scores\")\n",
    "plt.legend()\n",
    "plt.show()"
   ]
  },
  {
   "cell_type": "markdown",
   "id": "ad08f71c-8548-436f-b025-a5ad0bba93b8",
   "metadata": {},
   "source": [
    "### Evaluating the model "
   ]
  },
  {
   "cell_type": "code",
   "execution_count": 31,
   "id": "9b601706-2d27-4eef-906d-ca3e659ea41b",
   "metadata": {},
   "outputs": [],
   "source": [
    "from sklearn.metrics import mean_absolute_error, mean_squared_error , r2_score "
   ]
  },
  {
   "cell_type": "code",
   "execution_count": 32,
   "id": "4679652d-d30c-4502-9700-cab4daa4f04b",
   "metadata": {},
   "outputs": [],
   "source": [
    "mae = mean_absolute_error(Y_test,Y_pred)"
   ]
  },
  {
   "cell_type": "code",
   "execution_count": 34,
   "id": "1abd4a6f-d3f4-460f-b4df-f6c0475908eb",
   "metadata": {},
   "outputs": [],
   "source": [
    "mse = mean_squared_error(Y_test, Y_pred)\n",
    "rmse = np.sqrt(mse)\n",
    "r2 = r2_score(Y_test, Y_pred)"
   ]
  },
  {
   "cell_type": "code",
   "execution_count": 35,
   "id": "1fef3930-ce5e-4a91-91d2-1a0a28defb70",
   "metadata": {},
   "outputs": [
    {
     "name": "stdout",
     "output_type": "stream",
     "text": [
      "Mean Absolute Error: 4.13\n",
      "Mean Squared Error: 20.33\n",
      "Root Mean Squared Error: 4.51\n",
      "R-squared Score: 0.94\n"
     ]
    }
   ],
   "source": [
    "\n",
    "print(f\"Mean Absolute Error: {mae:.2f}\")\n",
    "print(f\"Mean Squared Error: {mse:.2f}\")\n",
    "print(f\"Root Mean Squared Error: {rmse:.2f}\")\n",
    "print(f\"R-squared Score: {r2:.2f}\")"
   ]
  },
  {
   "cell_type": "markdown",
   "id": "d6ea7318-6a1b-4e90-b922-9560d4078627",
   "metadata": {},
   "source": [
    "The evaluation metrics indicate that the Simple Linear Regression model performed well in predicting student scores based on study hours. Here's an interpretation of the results:\n",
    "\n",
    "Mean Absolute Error (MAE) = 4.13\n",
    "\n",
    "On average, the predicted student scores deviate by 4.13 points from the actual scores.\n",
    "This suggests that the model has a relatively low error, meaning it's fairly accurate.\n",
    "Mean Squared Error (MSE) = 20.33\n",
    "\n",
    "The MSE penalizes larger errors more heavily. A value of 20.33 indicates some variance in predictions but is not excessively high.\n",
    "Root Mean Squared Error (RMSE) = 4.51\n",
    "\n",
    "The RMSE is in the same unit as the target variable (scores).\n",
    "An RMSE of 4.51 means that, on average, predictions are about 4.5 points away from actual values.\n",
    "Lower RMSE values indicate better model performance.\n",
    "R-squared Score (R²) = 0.94\n",
    "\n",
    "The R² score of 0.94 means that 94% of the variance in student scores can be explained by the number of study hours.\n",
    "This is a very high value, indicating a strong relationship between study hours and scores.\n",
    "Final Verdict\n",
    "The model performs very well, with high accuracy and low prediction errors.\n",
    "The R² score of 0.94 suggests that study hours are a strong predictor of student performance.\n",
    "While the errors (MAE and RMSE) indicate some deviation, they are relatively small given the scale of the scores.\n",
    "Overall, this Simple Linear Regression model is effective for predicting student scores based on study hours. 🎯"
   ]
  },
  {
   "cell_type": "code",
   "execution_count": null,
   "id": "1bc33884-4a46-4342-8694-74f3099df873",
   "metadata": {},
   "outputs": [],
   "source": []
  }
 ],
 "metadata": {
  "kernelspec": {
   "display_name": "Python 3 (ipykernel)",
   "language": "python",
   "name": "python3"
  },
  "language_info": {
   "codemirror_mode": {
    "name": "ipython",
    "version": 3
   },
   "file_extension": ".py",
   "mimetype": "text/x-python",
   "name": "python",
   "nbconvert_exporter": "python",
   "pygments_lexer": "ipython3",
   "version": "3.12.3"
  }
 },
 "nbformat": 4,
 "nbformat_minor": 5
}
